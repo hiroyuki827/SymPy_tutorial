{
 "cells": [
  {
   "cell_type": "markdown",
   "metadata": {
    "deletable": true,
    "editable": true
   },
   "source": [
    "# Chapter 3 基本的な演算"
   ]
  },
  {
   "cell_type": "code",
   "execution_count": 9,
   "metadata": {
    "collapsed": false,
    "deletable": true,
    "editable": true,
    "scrolled": true
   },
   "outputs": [],
   "source": [
    "from sympy import *\n",
    "init_printing() #出力結果をキレイにするため\n",
    "x, y, z = symbols('x y z')"
   ]
  },
  {
   "cell_type": "markdown",
   "metadata": {
    "deletable": true,
    "editable": true
   },
   "source": [
    "ここでは基本的な計算の方法を扱う. \n",
    "\n",
    "**Tips**\n",
    "これ以降変数の定義はチュートリアルに沿って行うが、以下のように宣言すれば、いちいち(`symbols`を用いた変数宣言を)しなくて済む."
   ]
  },
  {
   "cell_type": "code",
   "execution_count": 7,
   "metadata": {
    "collapsed": false,
    "deletable": true,
    "editable": true
   },
   "outputs": [
    {
     "name": "stdout",
     "output_type": "stream",
     "text": [
      "IPython console for SymPy 1.0 (Python 3.6.0-64-bit) (ground types: python)\n",
      "\n",
      "These commands were executed:\n",
      ">>> from __future__ import division\n",
      ">>> from sympy import *\n",
      ">>> x, y, z, t = symbols('x y z t')\n",
      ">>> k, m, n = symbols('k m n', integer=True)\n",
      ">>> f, g, h = symbols('f g h', cls=Function)\n",
      ">>> init_printing()\n",
      "\n",
      "Documentation can be found at http://docs.sympy.org/1.0/\n"
     ]
    }
   ],
   "source": [
    "from sympy import init_session\n",
    "init_session()"
   ]
  },
  {
   "cell_type": "markdown",
   "metadata": {
    "deletable": true,
    "editable": true
   },
   "source": [
    "===> よく用いられる以下のものが自動的に読み込まれている.\n",
    "\n",
    "- `from __future__ import division` : `Python2`で割り算が`Python3`と同じものになる.\n",
    "- `from sympy import *` : すべてのSymPyオブジェクト(関数)をインポート\n",
    "- `x, y, z, t` : 変数\n",
    "- `k, m, n` : 整数(和の添字として)\n",
    "- `f, g, h` : 関数の名前\n",
    "- `init_printing()` : 表記を環境に応じて最適なものにする. jupyter notebook上ならLaTeXライクなものにする"
   ]
  },
  {
   "cell_type": "markdown",
   "metadata": {
    "deletable": true,
    "editable": true
   },
   "source": [
    "## 3.1 代入"
   ]
  },
  {
   "cell_type": "markdown",
   "metadata": {
    "deletable": true,
    "editable": true
   },
   "source": [
    "*SymPy*シンボルに関する代入は前章でも扱ったが、式を定義する順番を気にする必要があった. それを気にする必要がない方法として`subs`関数を用いる方法がある."
   ]
  },
  {
   "cell_type": "markdown",
   "metadata": {
    "deletable": true,
    "editable": true
   },
   "source": [
    "##### 値を代入する"
   ]
  },
  {
   "cell_type": "code",
   "execution_count": 10,
   "metadata": {
    "collapsed": false,
    "deletable": true,
    "editable": true
   },
   "outputs": [],
   "source": [
    "expr = cos(x) + 1"
   ]
  },
  {
   "cell_type": "code",
   "execution_count": 13,
   "metadata": {
    "collapsed": false,
    "deletable": true,
    "editable": true
   },
   "outputs": [
    {
     "data": {
      "image/png": "[encoded data removed]",
      "text/latex": [
       "$$\\cos{\\left (y \\right )} + 1$$"
      ],
      "text/plain": [
       "cos(y) + 1"
      ]
     },
     "execution_count": 13,
     "metadata": {},
     "output_type": "execute_result"
    }
   ],
   "source": [
    "expr.subs({x:y}) #subsメソッド: xにyを代入する."
   ]
  },
  {
   "cell_type": "code",
   "execution_count": 12,
   "metadata": {
    "collapsed": false,
    "deletable": true,
    "editable": true
   },
   "outputs": [
    {
     "data": {
      "image/png": "[encoded data removed]",
      "text/latex": [
       "$$\\cos{\\left (y \\right )} + 1$$"
      ],
      "text/plain": [
       "cos(y) + 1"
      ]
     },
     "execution_count": 12,
     "metadata": {},
     "output_type": "execute_result"
    }
   ],
   "source": [
    "expr.subs(x, y) "
   ]
  },
  {
   "cell_type": "markdown",
   "metadata": {
    "deletable": true,
    "editable": true
   },
   "source": [
    "`y = 0`(つまり `x = 0`) での評価は"
   ]
  },
  {
   "cell_type": "code",
   "execution_count": 4,
   "metadata": {
    "collapsed": false,
    "deletable": true,
    "editable": true
   },
   "outputs": [
    {
     "data": {
      "image/png": "[encoded data removed]",
      "text/latex": [
       "$$2$$"
      ],
      "text/plain": [
       "2"
      ]
     },
     "execution_count": 4,
     "metadata": {},
     "output_type": "execute_result"
    }
   ],
   "source": [
    "expr.subs(x, 0)"
   ]
  },
  {
   "cell_type": "markdown",
   "metadata": {
    "deletable": true,
    "editable": true
   },
   "source": [
    "##### 式を代入する"
   ]
  },
  {
   "cell_type": "markdown",
   "metadata": {
    "deletable": true,
    "editable": true
   },
   "source": [
    "また$$x^{x^{x^{x}}}$$"
   ]
  },
  {
   "cell_type": "markdown",
   "metadata": {
    "deletable": true,
    "editable": true
   },
   "source": [
    "のようなものはどうすればよいか. ---> `x`として、`y`を`x**y`で置き換えてやれば良い."
   ]
  },
  {
   "cell_type": "code",
   "execution_count": 5,
   "metadata": {
    "collapsed": false,
    "deletable": true,
    "editable": true
   },
   "outputs": [],
   "source": [
    "expr = x**y"
   ]
  },
  {
   "cell_type": "code",
   "execution_count": 6,
   "metadata": {
    "collapsed": false,
    "deletable": true,
    "editable": true
   },
   "outputs": [
    {
     "data": {
      "image/png": "[encoded data removed]",
      "text/latex": [
       "$$x^{y}$$"
      ],
      "text/plain": [
       " y\n",
       "x "
      ]
     },
     "execution_count": 6,
     "metadata": {},
     "output_type": "execute_result"
    }
   ],
   "source": [
    "expr"
   ]
  },
  {
   "cell_type": "code",
   "execution_count": 7,
   "metadata": {
    "collapsed": true,
    "deletable": true,
    "editable": true
   },
   "outputs": [],
   "source": [
    "expr = expr.subs(y, x**y)"
   ]
  },
  {
   "cell_type": "code",
   "execution_count": 8,
   "metadata": {
    "collapsed": false,
    "deletable": true,
    "editable": true
   },
   "outputs": [
    {
     "data": {
      "image/png": "[encoded data removed]",
      "text/latex": [
       "$$x^{x^{y}}$$"
      ],
      "text/plain": [
       " ⎛ y⎞\n",
       " ⎝x ⎠\n",
       "x    "
      ]
     },
     "execution_count": 8,
     "metadata": {},
     "output_type": "execute_result"
    }
   ],
   "source": [
    "expr"
   ]
  },
  {
   "cell_type": "code",
   "execution_count": 9,
   "metadata": {
    "collapsed": true,
    "deletable": true,
    "editable": true
   },
   "outputs": [],
   "source": [
    "expr = expr.subs(y, x**x)"
   ]
  },
  {
   "cell_type": "code",
   "execution_count": 10,
   "metadata": {
    "collapsed": false,
    "deletable": true,
    "editable": true
   },
   "outputs": [
    {
     "data": {
      "image/png": "[encoded data removed]",
      "text/latex": [
       "$$x^{x^{x^{x}}}$$"
      ],
      "text/plain": [
       " ⎛ ⎛ x⎞⎞\n",
       " ⎜ ⎝x ⎠⎟\n",
       " ⎝x    ⎠\n",
       "x       "
      ]
     },
     "execution_count": 10,
     "metadata": {},
     "output_type": "execute_result"
    }
   ],
   "source": [
    "expr"
   ]
  },
  {
   "cell_type": "markdown",
   "metadata": {
    "deletable": true,
    "editable": true
   },
   "source": [
    "##### 特定の関数・変数のみで書き換えたい"
   ]
  },
  {
   "cell_type": "code",
   "execution_count": 7,
   "metadata": {
    "collapsed": true,
    "deletable": true,
    "editable": true
   },
   "outputs": [],
   "source": [
    "expr = sin(2*x) + cos(2*x)"
   ]
  },
  {
   "cell_type": "code",
   "execution_count": 8,
   "metadata": {
    "collapsed": false,
    "deletable": true,
    "editable": true
   },
   "outputs": [
    {
     "data": {
      "image/png": "[encoded data removed]",
      "text/latex": [
       "$$2 \\sin{\\left (x \\right )} \\cos{\\left (x \\right )} + 2 \\cos^{2}{\\left (x \\right )} - 1$$"
      ],
      "text/plain": [
       "                       2       \n",
       "2⋅sin(x)⋅cos(x) + 2⋅cos (x) - 1"
      ]
     },
     "execution_count": 8,
     "metadata": {},
     "output_type": "execute_result"
    }
   ],
   "source": [
    "expand_trig(expr) #expand_trig関数を使って三角関数を展開"
   ]
  },
  {
   "cell_type": "code",
   "execution_count": 9,
   "metadata": {
    "collapsed": false,
    "deletable": true,
    "editable": true,
    "scrolled": true
   },
   "outputs": [
    {
     "data": {
      "image/png": "[encoded data removed]",
      "text/latex": [
       "$$2 \\sin{\\left (x \\right )} \\cos{\\left (x \\right )} + \\cos{\\left (2 x \\right )}$$"
      ],
      "text/plain": [
       "2⋅sin(x)⋅cos(x) + cos(2⋅x)"
      ]
     },
     "execution_count": 9,
     "metadata": {},
     "output_type": "execute_result"
    }
   ],
   "source": [
    "expr.subs(sin(2*x), 2*sin(x)*cos(x)) #sin(2x)を2sin(x)cos(x)に置き換える."
   ]
  },
  {
   "cell_type": "markdown",
   "metadata": {
    "deletable": true,
    "editable": true
   },
   "source": [
    "詳しい`SymPy`関数についてはChapter 5にて述べる."
   ]
  },
  {
   "cell_type": "markdown",
   "metadata": {
    "deletable": true,
    "editable": true
   },
   "source": [
    "**注意** *`Sympy`シンボルは`immutable`*"
   ]
  },
  {
   "cell_type": "code",
   "execution_count": 14,
   "metadata": {
    "collapsed": true,
    "deletable": true,
    "editable": true
   },
   "outputs": [],
   "source": [
    "expr = cos(x)"
   ]
  },
  {
   "cell_type": "code",
   "execution_count": 14,
   "metadata": {
    "collapsed": false,
    "deletable": true,
    "editable": true
   },
   "outputs": [
    {
     "data": {
      "image/png": "[encoded data removed]",
      "text/latex": [
       "$$2$$"
      ],
      "text/plain": [
       "2"
      ]
     },
     "execution_count": 14,
     "metadata": {},
     "output_type": "execute_result"
    }
   ],
   "source": [
    "expr.subs(x, 0) #x=0をexprへ代入"
   ]
  },
  {
   "cell_type": "code",
   "execution_count": 16,
   "metadata": {
    "collapsed": false,
    "deletable": true,
    "editable": true
   },
   "outputs": [
    {
     "data": {
      "image/png": "[encoded data removed]",
      "text/latex": [
       "$$\\cos{\\left (x \\right )}$$"
      ],
      "text/plain": [
       "cos(x)"
      ]
     },
     "execution_count": 16,
     "metadata": {},
     "output_type": "execute_result"
    }
   ],
   "source": [
    "expr"
   ]
  },
  {
   "cell_type": "markdown",
   "metadata": {
    "deletable": true,
    "editable": true
   },
   "source": [
    "--->値を代入しても、最初の式`expr = cos(x)`は変更を受けていない. (`Python`でのsort, sorted関数と同様に考えれば良い.)\n",
    "\n",
    "つまり`Sympy`での代入操作`subs()`はオリジナルの値を変数へ入れるのではなく、**`expr`のコピー**に代入操作`subs(x, 0)`を行い、出力していると考えれば良い。"
   ]
  },
  {
   "cell_type": "code",
   "execution_count": 17,
   "metadata": {
    "collapsed": false,
    "deletable": true,
    "editable": true
   },
   "outputs": [
    {
     "data": {
      "image/png": "[encoded data removed]",
      "text/latex": [
       "$$x$$"
      ],
      "text/plain": [
       "x"
      ]
     },
     "execution_count": 17,
     "metadata": {},
     "output_type": "execute_result"
    }
   ],
   "source": [
    "x"
   ]
  },
  {
   "cell_type": "markdown",
   "metadata": {
    "deletable": true,
    "editable": true
   },
   "source": [
    "--->値`x = 0`を代入した変数だが、変更を受けていない."
   ]
  },
  {
   "cell_type": "markdown",
   "metadata": {
    "deletable": true,
    "editable": true
   },
   "source": [
    "#### 幾つかの代入を一度に行う"
   ]
  },
  {
   "cell_type": "code",
   "execution_count": 11,
   "metadata": {
    "collapsed": true,
    "deletable": true,
    "editable": true
   },
   "outputs": [],
   "source": [
    "expr = x**3 + 4*x*y - z"
   ]
  },
  {
   "cell_type": "code",
   "execution_count": 14,
   "metadata": {
    "collapsed": false,
    "deletable": true,
    "editable": true
   },
   "outputs": [
    {
     "data": {
      "image/png": "[encoded data removed]",
      "text/latex": [
       "$$40$$"
      ],
      "text/plain": [
       "40"
      ]
     },
     "execution_count": 14,
     "metadata": {},
     "output_type": "execute_result"
    }
   ],
   "source": [
    "expr.subs([(x, 2), (y, 4), (z, 0)]) #引数はこのようにリストでも与えることができるし、"
   ]
  },
  {
   "cell_type": "code",
   "execution_count": 15,
   "metadata": {
    "collapsed": false,
    "deletable": true,
    "editable": true
   },
   "outputs": [
    {
     "data": {
      "image/png": "[encoded data removed]",
      "text/latex": [
       "$$40$$"
      ],
      "text/plain": [
       "40"
      ]
     },
     "execution_count": 15,
     "metadata": {},
     "output_type": "execute_result"
    }
   ],
   "source": [
    "expr.subs({x:2, y:4, z:0}) #辞書として与えることもできる."
   ]
  },
  {
   "cell_type": "markdown",
   "metadata": {
    "deletable": true,
    "editable": true
   },
   "source": [
    "代入したい変数がたくさんあるとき\n",
    "\n",
    "[**例**] $$x^4 - 4x^3 + 4x^2 - 2x + 3$$の*偶数べき*の`x`を`y`に置き換えたい:"
   ]
  },
  {
   "cell_type": "code",
   "execution_count": 18,
   "metadata": {
    "collapsed": true,
    "deletable": true,
    "editable": true
   },
   "outputs": [],
   "source": [
    "expr = x**4 - 4*x**3 + 4*x**2 - 2*x + 3"
   ]
  },
  {
   "cell_type": "code",
   "execution_count": 19,
   "metadata": {
    "collapsed": false,
    "deletable": true,
    "editable": true
   },
   "outputs": [],
   "source": [
    "replacements = [(x**i, y**i) for i in range(5) if i % 2 == 0]"
   ]
  },
  {
   "cell_type": "code",
   "execution_count": 21,
   "metadata": {
    "collapsed": false,
    "deletable": true,
    "editable": true
   },
   "outputs": [
    {
     "data": {
      "image/png": "[encoded data removed]",
      "text/latex": [
       "$$- 4 x^{3} - 2 x + y^{4} + 4 y^{2} + 3$$"
      ],
      "text/plain": [
       "     3          4      2    \n",
       "- 4⋅x  - 2⋅x + y  + 4⋅y  + 3"
      ]
     },
     "execution_count": 21,
     "metadata": {},
     "output_type": "execute_result"
    }
   ],
   "source": [
    "expr.subs(replacements)"
   ]
  },
  {
   "cell_type": "markdown",
   "metadata": {
    "deletable": true,
    "editable": true
   },
   "source": [
    "## 3.2 文字列をSympyの表式に変換する"
   ]
  },
  {
   "cell_type": "markdown",
   "metadata": {
    "deletable": true,
    "editable": true
   },
   "source": [
    "関数`sympify()`は文字列を`Sympy`オブジェクトに変換する。\n",
    "\n",
    "たとえば`input`関数でユーザー入力を受け付けて式を変数`str_expr`に代入したとすると、その時点では以下のように文字列で認識されている."
   ]
  },
  {
   "cell_type": "code",
   "execution_count": 22,
   "metadata": {
    "collapsed": true,
    "deletable": true,
    "editable": true
   },
   "outputs": [],
   "source": [
    "str_expr = 'x**2 + 3*x - 1/2'"
   ]
  },
  {
   "cell_type": "code",
   "execution_count": 23,
   "metadata": {
    "collapsed": false,
    "deletable": true,
    "editable": true
   },
   "outputs": [
    {
     "data": {
      "text/plain": [
       "str"
      ]
     },
     "execution_count": 23,
     "metadata": {},
     "output_type": "execute_result"
    }
   ],
   "source": [
    "type(str_expr)"
   ]
  },
  {
   "cell_type": "code",
   "execution_count": 24,
   "metadata": {
    "collapsed": false,
    "deletable": true,
    "editable": true
   },
   "outputs": [
    {
     "data": {
      "text/plain": [
       "'x**2 + 3*x - 1/2'"
      ]
     },
     "execution_count": 24,
     "metadata": {},
     "output_type": "execute_result"
    }
   ],
   "source": [
    "str_expr"
   ]
  },
  {
   "cell_type": "code",
   "execution_count": 25,
   "metadata": {
    "collapsed": false,
    "deletable": true,
    "editable": true
   },
   "outputs": [
    {
     "ename": "AttributeError",
     "evalue": "'str' object has no attribute 'subs'",
     "output_type": "error",
     "traceback": [
      "\u001b[0;31m---------------------------------------------------------------------------\u001b[0m",
      "\u001b[0;31mAttributeError\u001b[0m                            Traceback (most recent call last)",
      "\u001b[0;32m<ipython-input-25-93c439777d80>\u001b[0m in \u001b[0;36m<module>\u001b[0;34m()\u001b[0m\n\u001b[0;32m----> 1\u001b[0;31m \u001b[0mstr_expr\u001b[0m\u001b[0;34m.\u001b[0m\u001b[0msubs\u001b[0m\u001b[0;34m(\u001b[0m\u001b[0mx\u001b[0m\u001b[0;34m,\u001b[0m \u001b[0;36m2\u001b[0m\u001b[0;34m)\u001b[0m\u001b[0;34m\u001b[0m\u001b[0m\n\u001b[0m",
      "\u001b[0;31mAttributeError\u001b[0m: 'str' object has no attribute 'subs'"
     ]
    }
   ],
   "source": [
    "str_expr.subs(x, 2) #str_exprは単なる文字列なので代入操作不可能"
   ]
  },
  {
   "cell_type": "code",
   "execution_count": 27,
   "metadata": {
    "collapsed": true,
    "deletable": true,
    "editable": true
   },
   "outputs": [],
   "source": [
    "expr = sympify(str_expr) #Sympyオブジェクトに変換"
   ]
  },
  {
   "cell_type": "code",
   "execution_count": 28,
   "metadata": {
    "collapsed": false,
    "deletable": true,
    "editable": true
   },
   "outputs": [
    {
     "data": {
      "text/plain": [
       "sympy.core.add.Add"
      ]
     },
     "execution_count": 28,
     "metadata": {},
     "output_type": "execute_result"
    }
   ],
   "source": [
    "type(expr)"
   ]
  },
  {
   "cell_type": "code",
   "execution_count": 29,
   "metadata": {
    "collapsed": false,
    "deletable": true,
    "editable": true
   },
   "outputs": [
    {
     "data": {
      "image/png": "[encoded data removed]",
      "text/latex": [
       "$$x^{2} + 3 x - \\frac{1}{2}$$"
      ],
      "text/plain": [
       " 2         1\n",
       "x  + 3⋅x - ─\n",
       "           2"
      ]
     },
     "execution_count": 29,
     "metadata": {},
     "output_type": "execute_result"
    }
   ],
   "source": [
    "expr"
   ]
  },
  {
   "cell_type": "code",
   "execution_count": 30,
   "metadata": {
    "collapsed": false,
    "deletable": true,
    "editable": true
   },
   "outputs": [
    {
     "data": {
      "image/png": "[encoded data removed]",
      "text/latex": [
       "$$\\frac{19}{2}$$"
      ],
      "text/plain": [
       "19/2"
      ]
     },
     "execution_count": 30,
     "metadata": {},
     "output_type": "execute_result"
    }
   ],
   "source": [
    "expr.subs(x, 2) #xがSympyオブジェクトとして扱えるようになり、代入操作も可能になる."
   ]
  },
  {
   "cell_type": "markdown",
   "metadata": {
    "deletable": true,
    "editable": true
   },
   "source": [
    "##### 浮動小数点数に変換する"
   ]
  },
  {
   "cell_type": "markdown",
   "metadata": {
    "deletable": true,
    "editable": true
   },
   "source": [
    "ここではこれまで扱ってきた数式の数値評価を考える."
   ]
  },
  {
   "cell_type": "code",
   "execution_count": 31,
   "metadata": {
    "collapsed": true,
    "deletable": true,
    "editable": true
   },
   "outputs": [],
   "source": [
    "expr = sqrt(8)"
   ]
  },
  {
   "cell_type": "code",
   "execution_count": 32,
   "metadata": {
    "collapsed": false,
    "deletable": true,
    "editable": true,
    "scrolled": true
   },
   "outputs": [
    {
     "data": {
      "image/png": "[encoded data removed]",
      "text/latex": [
       "$$2 \\sqrt{2}$$"
      ],
      "text/plain": [
       "2⋅√2"
      ]
     },
     "execution_count": 32,
     "metadata": {},
     "output_type": "execute_result"
    }
   ],
   "source": [
    "expr"
   ]
  },
  {
   "cell_type": "code",
   "execution_count": 33,
   "metadata": {
    "collapsed": false,
    "deletable": true,
    "editable": true
   },
   "outputs": [
    {
     "data": {
      "image/png": "[encoded data removed]",
      "text/latex": [
       "$$2.82842712474619$$"
      ],
      "text/plain": [
       "2.82842712474619"
      ]
     },
     "execution_count": 33,
     "metadata": {},
     "output_type": "execute_result"
    }
   ],
   "source": [
    "expr.evalf() #evalf()メソッド"
   ]
  },
  {
   "cell_type": "markdown",
   "metadata": {
    "deletable": true,
    "editable": true
   },
   "source": [
    "`evalf()`の引数には、欲しい桁を与えられる. デフォルトでは15桁. 100桁ほしいなら"
   ]
  },
  {
   "cell_type": "code",
   "execution_count": 27,
   "metadata": {
    "collapsed": false,
    "deletable": true,
    "editable": true
   },
   "outputs": [
    {
     "data": {
      "image/png": "[encoded data removed]",
      "text/latex": [
       "$$3.141592653589793238462643383279502884197169399375105820974944592307816406286208998628034825342117067982148086513282306647093844609550582231725359408128481117450284102701938521105559644622948954930381964428810975665933446128475648233786783165271201909145648566923460348610454326648213393607260249141273724587006606315588174881520920962829254091715364367892590360011330530548820466521384146951941511609433057270365759591953092186117381932611793105118548074462379962749567351885752724891227938183011949129833673362440656643086021394946395224737190702179860943702770539217176293176752384674818467669405132000568127145263560827785771342757789609173637178721468440901224953430146549585371050792279689258923542019956112129021960864034418159813629774771309960518707211349999998372978049951059731732816096318595024459455346908302642522308253344685035261931188171010003137838752886587533208381420617177669147303598253490428755468731159562863882353787593751957781857780532171226806613001927876611195909216420198$$"
      ],
      "text/plain": [
       "3.1415926535897932384626433832795028841971693993751058209749445923078164062862\n",
       "089986280348253421170679821480865132823066470938446095505822317253594081284811\n",
       "174502841027019385211055596446229489549303819644288109756659334461284756482337\n",
       "867831652712019091456485669234603486104543266482133936072602491412737245870066\n",
       "063155881748815209209628292540917153643678925903600113305305488204665213841469\n",
       "519415116094330572703657595919530921861173819326117931051185480744623799627495\n",
       "673518857527248912279381830119491298336733624406566430860213949463952247371907\n",
       "021798609437027705392171762931767523846748184676694051320005681271452635608277\n",
       "857713427577896091736371787214684409012249534301465495853710507922796892589235\n",
       "420199561121290219608640344181598136297747713099605187072113499999983729780499\n",
       "510597317328160963185950244594553469083026425223082533446850352619311881710100\n",
       "031378387528865875332083814206171776691473035982534904287554687311595628638823\n",
       "53787593751957781857780532171226806613001927876611195909216420198"
      ]
     },
     "execution_count": 27,
     "metadata": {},
     "output_type": "execute_result"
    }
   ],
   "source": [
    "pi.evalf(10e2)"
   ]
  },
  {
   "cell_type": "markdown",
   "metadata": {
    "deletable": true,
    "editable": true
   },
   "source": [
    "浮動小数点数が欲しい時は、`subs`で表式に代入してから`evalf`を使えば良い。\n",
    "一つの式として表せば"
   ]
  },
  {
   "cell_type": "code",
   "execution_count": 35,
   "metadata": {
    "collapsed": true,
    "deletable": true,
    "editable": true
   },
   "outputs": [],
   "source": [
    "expr = cos(2*x)"
   ]
  },
  {
   "cell_type": "code",
   "execution_count": 36,
   "metadata": {
    "collapsed": false,
    "deletable": true,
    "editable": true
   },
   "outputs": [
    {
     "data": {
      "image/png": "[encoded data removed]",
      "text/latex": [
       "$$0.0874989834394464$$"
      ],
      "text/plain": [
       "0.0874989834394464"
      ]
     },
     "execution_count": 36,
     "metadata": {},
     "output_type": "execute_result"
    }
   ],
   "source": [
    "expr.evalf(subs={x:2.4})"
   ]
  },
  {
   "cell_type": "markdown",
   "metadata": {
    "deletable": true,
    "editable": true
   },
   "source": [
    "とすればよい。\n",
    "\n",
    "*コメント* `expr.evalf()`オブジェクトの引数に注意. 桁数ではない.)"
   ]
  },
  {
   "cell_type": "markdown",
   "metadata": {
    "deletable": true,
    "editable": true
   },
   "source": [
    "*Tips*: 全体の精度に響かない値を、単に切り捨てたいときがある. たとえば"
   ]
  },
  {
   "cell_type": "code",
   "execution_count": 37,
   "metadata": {
    "collapsed": true,
    "deletable": true,
    "editable": true
   },
   "outputs": [],
   "source": [
    "one = cos(1)**2 + sin(1)**2"
   ]
  },
  {
   "cell_type": "code",
   "execution_count": 38,
   "metadata": {
    "collapsed": false,
    "deletable": true,
    "editable": true
   },
   "outputs": [
    {
     "data": {
      "image/png": "[encoded data removed]",
      "text/latex": [
       "$$-4.0 \\cdot 10^{-124}$$"
      ],
      "text/plain": [
       "-0.e-124"
      ]
     },
     "execution_count": 38,
     "metadata": {},
     "output_type": "execute_result"
    }
   ],
   "source": [
    "(one - 1).evalf()"
   ]
  },
  {
   "cell_type": "markdown",
   "metadata": {
    "deletable": true,
    "editable": true
   },
   "source": [
    "なんかは、全体の精度に対してほとんど無視して良いといえる. そこで"
   ]
  },
  {
   "cell_type": "code",
   "execution_count": 39,
   "metadata": {
    "collapsed": false,
    "deletable": true,
    "editable": true
   },
   "outputs": [
    {
     "data": {
      "image/png": "[encoded data removed]",
      "text/latex": [
       "$$0$$"
      ],
      "text/plain": [
       "0"
      ]
     },
     "execution_count": 39,
     "metadata": {},
     "output_type": "execute_result"
    }
   ],
   "source": [
    "(one-1).evalf(chop=True)"
   ]
  },
  {
   "cell_type": "markdown",
   "metadata": {
    "deletable": true,
    "editable": true
   },
   "source": [
    "と、`chop`フラグをつければ無事小数点以下を切り捨てられる."
   ]
  },
  {
   "cell_type": "markdown",
   "metadata": {
    "deletable": true,
    "editable": true
   },
   "source": [
    "## 3.3 Lambdify"
   ]
  },
  {
   "cell_type": "markdown",
   "metadata": {
    "deletable": true,
    "editable": true
   },
   "source": [
    "たくさんの点で、式を評価したいときは、もっと簡単な方法がある. -->数千個の点になってくると`Sympy`だと遅いので、`Numpy`とか`SciPy`を使うべき."
   ]
  },
  {
   "cell_type": "code",
   "execution_count": 41,
   "metadata": {
    "collapsed": false,
    "deletable": true,
    "editable": true
   },
   "outputs": [
    {
     "name": "stdout",
     "output_type": "stream",
     "text": [
      "Help on function lambdify in module sympy.utilities.lambdify:\n",
      "\n",
      "lambdify(args, expr, modules=None, printer=None, use_imps=True, dummify=True)\n",
      "    Returns a lambda function for fast calculation of numerical values.\n",
      "    \n",
      "    If not specified differently by the user, SymPy functions are replaced as\n",
      "    far as possible by either python-math, numpy (if available) or mpmath\n",
      "    functions - exactly in this order. To change this behavior, the \"modules\"\n",
      "    argument can be used. It accepts:\n",
      "    \n",
      "     - the strings \"math\", \"mpmath\", \"numpy\", \"numexpr\", \"sympy\"\n",
      "     - any modules (e.g. math)\n",
      "     - dictionaries that map names of sympy functions to arbitrary functions\n",
      "     - lists that contain a mix of the arguments above, with higher priority\n",
      "       given to entries appearing first.\n",
      "    \n",
      "    The default behavior is to substitute all arguments in the provided\n",
      "    expression with dummy symbols. This allows for applied functions (e.g.\n",
      "    f(t)) to be supplied as arguments. Call the function with dummify=False if\n",
      "    dummy substitution is unwanted (and `args` is not a string). If you want\n",
      "    to view the lambdified function or provide \"sympy\" as the module, you\n",
      "    should probably set dummify=False.\n",
      "    \n",
      "    For functions involving large array calculations, numexpr can provide a\n",
      "    significant speedup over numpy.  Please note that the available functions\n",
      "    for numexpr are more limited than numpy but can be expanded with\n",
      "    implemented_function and user defined subclasses of Function.  If specified,\n",
      "    numexpr may be the only option in modules. The official list of numexpr\n",
      "    functions can be found at:\n",
      "    https://github.com/pydata/numexpr#supported-functions\n",
      "    \n",
      "    In previous releases ``lambdify`` replaced ``Matrix`` with ``numpy.matrix``\n",
      "    by default. As of release 1.0 ``numpy.array`` is the default.\n",
      "    To get the old default behavior you must pass in ``[{'ImmutableMatrix':\n",
      "    numpy.matrix}, 'numpy']`` to the ``modules`` kwarg.\n",
      "    \n",
      "    >>> from sympy import lambdify, Matrix\n",
      "    >>> from sympy.abc import x, y\n",
      "    >>> import numpy\n",
      "    >>> array2mat = [{'ImmutableMatrix': numpy.matrix}, 'numpy']\n",
      "    >>> f = lambdify((x, y), Matrix([x, y]), modules=array2mat)\n",
      "    >>> f(1, 2)\n",
      "    matrix([[1],\n",
      "            [2]])\n",
      "    \n",
      "    Usage\n",
      "    =====\n",
      "    \n",
      "    (1) Use one of the provided modules:\n",
      "    \n",
      "        >>> from sympy import sin, tan, gamma\n",
      "        >>> from sympy.utilities.lambdify import lambdastr\n",
      "        >>> from sympy.abc import x, y\n",
      "        >>> f = lambdify(x, sin(x), \"math\")\n",
      "    \n",
      "        Attention: Functions that are not in the math module will throw a name\n",
      "                   error when the lambda function is evaluated! So this would\n",
      "                   be better:\n",
      "    \n",
      "        >>> f = lambdify(x, sin(x)*gamma(x), (\"math\", \"mpmath\", \"sympy\"))\n",
      "    \n",
      "    (2) Use some other module:\n",
      "    \n",
      "        >>> import numpy\n",
      "        >>> f = lambdify((x,y), tan(x*y), numpy)\n",
      "    \n",
      "        Attention: There are naming differences between numpy and sympy. So if\n",
      "                   you simply take the numpy module, e.g. sympy.atan will not be\n",
      "                   translated to numpy.arctan. Use the modified module instead\n",
      "                   by passing the string \"numpy\":\n",
      "    \n",
      "        >>> f = lambdify((x,y), tan(x*y), \"numpy\")\n",
      "        >>> f(1, 2)\n",
      "        -2.18503986326\n",
      "        >>> from numpy import array\n",
      "        >>> f(array([1, 2, 3]), array([2, 3, 5]))\n",
      "        [-2.18503986 -0.29100619 -0.8559934 ]\n",
      "    \n",
      "    (3) Use a dictionary defining custom functions:\n",
      "    \n",
      "        >>> def my_cool_function(x): return 'sin(%s) is cool' % x\n",
      "        >>> myfuncs = {\"sin\" : my_cool_function}\n",
      "        >>> f = lambdify(x, sin(x), myfuncs); f(1)\n",
      "        'sin(1) is cool'\n",
      "    \n",
      "    Examples\n",
      "    ========\n",
      "    \n",
      "    >>> from sympy.utilities.lambdify import implemented_function\n",
      "    >>> from sympy import sqrt, sin, Matrix\n",
      "    >>> from sympy import Function\n",
      "    >>> from sympy.abc import w, x, y, z\n",
      "    \n",
      "    >>> f = lambdify(x, x**2)\n",
      "    >>> f(2)\n",
      "    4\n",
      "    >>> f = lambdify((x, y, z), [z, y, x])\n",
      "    >>> f(1,2,3)\n",
      "    [3, 2, 1]\n",
      "    >>> f = lambdify(x, sqrt(x))\n",
      "    >>> f(4)\n",
      "    2.0\n",
      "    >>> f = lambdify((x, y), sin(x*y)**2)\n",
      "    >>> f(0, 5)\n",
      "    0.0\n",
      "    >>> row = lambdify((x, y), Matrix((x, x + y)).T, modules='sympy')\n",
      "    >>> row(1, 2)\n",
      "    Matrix([[1, 3]])\n",
      "    \n",
      "    Tuple arguments are handled and the lambdified function should\n",
      "    be called with the same type of arguments as were used to create\n",
      "    the function.:\n",
      "    \n",
      "    >>> f = lambdify((x, (y, z)), x + y)\n",
      "    >>> f(1, (2, 4))\n",
      "    3\n",
      "    \n",
      "    A more robust way of handling this is to always work with flattened\n",
      "    arguments:\n",
      "    \n",
      "    >>> from sympy.utilities.iterables import flatten\n",
      "    >>> args = w, (x, (y, z))\n",
      "    >>> vals = 1, (2, (3, 4))\n",
      "    >>> f = lambdify(flatten(args), w + x + y + z)\n",
      "    >>> f(*flatten(vals))\n",
      "    10\n",
      "    \n",
      "    Functions present in `expr` can also carry their own numerical\n",
      "    implementations, in a callable attached to the ``_imp_``\n",
      "    attribute.  Usually you attach this using the\n",
      "    ``implemented_function`` factory:\n",
      "    \n",
      "    >>> f = implemented_function(Function('f'), lambda x: x+1)\n",
      "    >>> func = lambdify(x, f(x))\n",
      "    >>> func(4)\n",
      "    5\n",
      "    \n",
      "    ``lambdify`` always prefers ``_imp_`` implementations to implementations\n",
      "    in other namespaces, unless the ``use_imps`` input parameter is False.\n",
      "\n"
     ]
    }
   ],
   "source": [
    "help(lambdify)"
   ]
  },
  {
   "cell_type": "markdown",
   "metadata": {
    "deletable": true,
    "editable": true
   },
   "source": [
    "##### Numpy"
   ]
  },
  {
   "cell_type": "code",
   "execution_count": 29,
   "metadata": {
    "collapsed": true,
    "deletable": true,
    "editable": true
   },
   "outputs": [],
   "source": [
    "import numpy #numpyを呼び出すためインポートする."
   ]
  },
  {
   "cell_type": "code",
   "execution_count": 33,
   "metadata": {
    "collapsed": false,
    "deletable": true,
    "editable": true
   },
   "outputs": [
    {
     "data": {
      "text/plain": [
       "array([0, 1, 2, 3, 4, 5, 6, 7, 8, 9])"
      ]
     },
     "execution_count": 33,
     "metadata": {},
     "output_type": "execute_result"
    }
   ],
   "source": [
    "a = numpy.arange(10) #Numpyでのリスト(10個)\n",
    "a"
   ]
  },
  {
   "cell_type": "code",
   "execution_count": 39,
   "metadata": {
    "collapsed": true,
    "deletable": true,
    "editable": true
   },
   "outputs": [],
   "source": [
    "f = lambdify(x, sin(x), 'numpy') #numpyをバックエンドで呼び出して計算させる. 第２引数に関数を持ってくる."
   ]
  },
  {
   "cell_type": "code",
   "execution_count": 32,
   "metadata": {
    "collapsed": false,
    "deletable": true,
    "editable": true
   },
   "outputs": [
    {
     "data": {
      "text/plain": [
       "array([ 0.        ,  0.84147098,  0.90929743,  0.14112001, -0.7568025 ,\n",
       "       -0.95892427, -0.2794155 ,  0.6569866 ,  0.98935825,  0.41211849])"
      ]
     },
     "execution_count": 32,
     "metadata": {},
     "output_type": "execute_result"
    }
   ],
   "source": [
    "f(a) #引数はnumpyオブジェクト"
   ]
  },
  {
   "cell_type": "markdown",
   "metadata": {
    "deletable": true,
    "editable": true
   },
   "source": [
    "--->関数値が格納できている."
   ]
  },
  {
   "cell_type": "markdown",
   "metadata": {
    "deletable": true,
    "editable": true
   },
   "source": [
    "##### 標準ライブラリmath"
   ]
  },
  {
   "cell_type": "code",
   "execution_count": 37,
   "metadata": {
    "collapsed": true,
    "deletable": true,
    "editable": true
   },
   "outputs": [],
   "source": [
    "f = lambdify(x, sin(x), 'math')"
   ]
  },
  {
   "cell_type": "code",
   "execution_count": 38,
   "metadata": {
    "collapsed": false,
    "deletable": true,
    "editable": true
   },
   "outputs": [
    {
     "data": {
      "image/png": "[encoded data removed]",
      "text/latex": [
       "$$0.09983341664682815$$"
      ],
      "text/plain": [
       "0.09983341664682815"
      ]
     },
     "execution_count": 38,
     "metadata": {},
     "output_type": "execute_result"
    }
   ],
   "source": [
    "f(0.1)"
   ]
  },
  {
   "cell_type": "markdown",
   "metadata": {
    "deletable": true,
    "editable": true
   },
   "source": [
    "##### 自分で関数を定義する"
   ]
  },
  {
   "cell_type": "code",
   "execution_count": 47,
   "metadata": {
    "collapsed": true,
    "deletable": true,
    "editable": true
   },
   "outputs": [],
   "source": [
    "def mysin(x):\n",
    "    '''\n",
    "    My sine. Note that this is only accurate for small x.\n",
    "    '''\n",
    "    return x"
   ]
  },
  {
   "cell_type": "code",
   "execution_count": 48,
   "metadata": {
    "collapsed": true,
    "deletable": true,
    "editable": true
   },
   "outputs": [],
   "source": [
    "f = lambdify(x, expr, {'sin':mysin})"
   ]
  },
  {
   "cell_type": "code",
   "execution_count": 49,
   "metadata": {
    "collapsed": false,
    "deletable": true,
    "editable": true
   },
   "outputs": [
    {
     "data": {
      "image/png": "[encoded data removed]",
      "text/latex": [
       "$$0.1$$"
      ],
      "text/plain": [
       "0.1"
      ]
     },
     "execution_count": 49,
     "metadata": {},
     "output_type": "execute_result"
    }
   ],
   "source": [
    "f(0.1)"
   ]
  }
 ],
 "metadata": {
  "kernelspec": {
   "display_name": "Python 3",
   "language": "python",
   "name": "python3"
  },
  "language_info": {
   "codemirror_mode": {
    "name": "ipython",
    "version": 3
   },
   "file_extension": ".py",
   "mimetype": "text/x-python",
   "name": "python",
   "nbconvert_exporter": "python",
   "pygments_lexer": "ipython3",
   "version": "3.6.0"
  },
  "latex_envs": {
   "LaTeX_envs_menu_present": true,
   "autocomplete": true,
   "bibliofile": "biblio.bib",
   "cite_by": "apalike",
   "current_citInitial": 1,
   "eqLabelWithNumbers": true,
   "eqNumInitial": 1,
   "hotkeys": {
    "equation": "Ctrl-E",
    "itemize": "Ctrl-I"
   },
   "labels_anchors": false,
   "latex_user_defs": false,
   "report_style_numbering": false,
   "user_envs_cfg": false
  },
  "toc": {
   "colors": {
    "hover_highlight": "#DAA520",
    "running_highlight": "#FF0000",
    "selected_highlight": "#FFD700"
   },
   "moveMenuLeft": true,
   "nav_menu": {
    "height": "166px",
    "width": "283px"
   },
   "navigate_menu": true,
   "number_sections": true,
   "sideBar": true,
   "threshold": 4,
   "toc_cell": false,
   "toc_section_display": "block",
   "toc_window_display": false,
   "widenNotebook": false
  }
 },
 "nbformat": 4,
 "nbformat_minor": 2
}
