{
 "cells": [
  {
   "cell_type": "markdown",
   "metadata": {},
   "source": [
    "# このチュートリアルについて"
   ]
  },
  {
   "cell_type": "markdown",
   "metadata": {},
   "source": [
    "このチュートリアルは、[Sympy](http://www.sympy.org/en/index.html)チュートリアルをある意味で日本語化したものです。「ある意味で」というのは、一字一句和訳しているわけではありませんし、わざとエラーを出しているところもあります。また私自身（チュートリアルに触れる上で）必要ないと感じたところはわざと省いています。したがって、100%正しい（いわゆる公式の）チュートリアルではありません。その点についてご承知おきください。\n",
    "\n",
    "このチュートリアルは以下で構成されています。"
   ]
  },
  {
   "cell_type": "markdown",
   "metadata": {},
   "source": [
    "- [Chapter1 Introduction](https://hiroyuki827.github.io/SymPy_tutorial/Chapter1_Introduction.html)\n",
    "- [Chapter2_Gotchas](https://hiroyuki827.github.io/SymPy_tutorial/Chapter2_Gotchas.html)\n",
    "- [Chapter3_Basic_Operations](https://hiroyuki827.github.io/SymPy_tutorial/Chapter3_Basic_Operations.html)\n",
    "- [Chapter4_Printing](https://hiroyuki827.github.io/SymPy_tutorial/Chapter4_Printing.html)\n",
    "- [Chapter5_Simplification](./Chapter5_Simplification.html)\n",
    "- [Chapter6_Calculus](https://hiroyuki827.github.io/SymPy_tutorial/Chapter6_Calculus.html)\n",
    "- [Chapter7_Solvers](https://hiroyuki827.github.io/SymPy_tutorial/Chapter7_Solvers.html)\n",
    "- [Chapter8_Matrices](https://hiroyuki827.github.io/SymPy_tutorial/Chapter8_Matrices.html)"
   ]
  }
 ],
 "metadata": {
  "kernelspec": {
   "display_name": "Python 3",
   "language": "python",
   "name": "python3"
  },
  "language_info": {
   "codemirror_mode": {
    "name": "ipython",
    "version": 3
   },
   "file_extension": ".py",
   "mimetype": "text/x-python",
   "name": "python",
   "nbconvert_exporter": "python",
   "pygments_lexer": "ipython3",
   "version": "3.6.4"
  }
 },
 "nbformat": 4,
 "nbformat_minor": 2
}
